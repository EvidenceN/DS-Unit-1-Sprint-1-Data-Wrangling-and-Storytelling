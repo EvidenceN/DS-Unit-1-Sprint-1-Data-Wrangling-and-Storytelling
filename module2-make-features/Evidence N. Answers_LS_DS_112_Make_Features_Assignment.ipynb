{
  "nbformat": 4,
  "nbformat_minor": 0,
  "metadata": {
    "colab": {
      "name": "Answers LS_DS_112_Make_Features_Assignment.ipynb",
      "provenance": [],
      "collapsed_sections": [],
      "include_colab_link": true
    },
    "kernelspec": {
      "display_name": "Python 3",
      "language": "python",
      "name": "python3"
    },
    "language_info": {
      "codemirror_mode": {
        "name": "ipython",
        "version": 3
      },
      "file_extension": ".py",
      "mimetype": "text/x-python",
      "name": "python",
      "nbconvert_exporter": "python",
      "pygments_lexer": "ipython3",
      "version": "3.7.1"
    }
  },
  "cells": [
    {
      "cell_type": "markdown",
      "metadata": {
        "id": "view-in-github",
        "colab_type": "text"
      },
      "source": [
        "<a href=\"https://colab.research.google.com/github/EvidenceN/DS-Unit-1-Sprint-1-Data-Wrangling-and-Storytelling/blob/master/module2-make-features/Evidence%20N.%20Answers_LS_DS_112_Make_Features_Assignment.ipynb\" target=\"_parent\"><img src=\"https://colab.research.google.com/assets/colab-badge.svg\" alt=\"Open In Colab\"/></a>"
      ]
    },
    {
      "cell_type": "markdown",
      "metadata": {
        "id": "SnDJqBLi0FYW",
        "colab_type": "text"
      },
      "source": [
        "<img align=\"left\" src=\"https://lever-client-logos.s3.amazonaws.com/864372b1-534c-480e-acd5-9711f850815c-1524247202159.png\" width=200> "
      ]
    },
    {
      "cell_type": "markdown",
      "metadata": {
        "id": "W5GjI1z5yNG4",
        "colab_type": "text"
      },
      "source": [
        "# Assignment:\n",
        "\n",
        "- Replicate the lesson code.\n",
        "\n",
        " - This means that if you haven't followed along already, type out the things that we did in class. Forcing your fingers to hit each key will help you internalize the syntax of what we're doing. Make sure you understand each line of code that you're writing, google things that you don't fully understand.\n",
        " - [Lambda Learning Method for DS - By Ryan Herr](https://docs.google.com/document/d/1ubOw9B3Hfip27hF2ZFnW3a3z9xAgrUDRReOEo-FHCVs/edit?usp=sharing)\n",
        "- Convert the `term` column from string to integer.\n",
        "- Make a column named `loan_status_is_great`. It should contain the integer 1 if `loan_status` is \"Current\" or \"Fully Paid.\" Else it should contain the integer 0.\n",
        "- Make `last_pymnt_d_month` and `last_pymnt_d_year` columns."
      ]
    },
    {
      "cell_type": "code",
      "metadata": {
        "id": "AazB4eFwym2p",
        "colab_type": "code",
        "outputId": "7d19f3f8-c167-425a-cc3f-a29891f9d670",
        "colab": {
          "base_uri": "https://localhost:8080/",
          "height": 151
        }
      },
      "source": [
        "##### Begin Working Here #####\n",
        "!wget https://resources.lendingclub.com/LoanStats_2018Q4.csv.zip"
      ],
      "execution_count": 28,
      "outputs": [
        {
          "output_type": "stream",
          "text": [
            "--2019-10-01 19:48:37--  https://resources.lendingclub.com/LoanStats_2018Q4.csv.zip\n",
            "Resolving resources.lendingclub.com (resources.lendingclub.com)... 64.48.1.20\n",
            "Connecting to resources.lendingclub.com (resources.lendingclub.com)|64.48.1.20|:443... connected.\n",
            "HTTP request sent, awaiting response... 200 OK\n",
            "Length: unspecified [application/zip]\n",
            "Saving to: ‘LoanStats_2018Q4.csv.zip.1’\n",
            "\n",
            "_2018Q4.csv.zip.1       [    <=>             ]  11.64M   883KB/s               ^C\n"
          ],
          "name": "stdout"
        }
      ]
    },
    {
      "cell_type": "code",
      "metadata": {
        "id": "P5e8CsxDxxzH",
        "colab_type": "code",
        "outputId": "de6072a5-c8e2-45a1-df32-8b941680a59c",
        "colab": {
          "base_uri": "https://localhost:8080/",
          "height": 50
        }
      },
      "source": [
        "!unzip LoanStats_2018Q4.csv.zip"
      ],
      "execution_count": 29,
      "outputs": [
        {
          "output_type": "stream",
          "text": [
            "Archive:  LoanStats_2018Q4.csv.zip\n",
            "replace LoanStats_2018Q4.csv? [y]es, [n]o, [A]ll, [N]one, [r]ename: "
          ],
          "name": "stdout"
        }
      ]
    },
    {
      "cell_type": "code",
      "metadata": {
        "id": "0wsEiEjBx7Hk",
        "colab_type": "code",
        "colab": {}
      },
      "source": [
        "!head LoanStats_2018Q4.csv"
      ],
      "execution_count": 0,
      "outputs": []
    },
    {
      "cell_type": "code",
      "metadata": {
        "id": "1tOXlxF6ylAR",
        "colab_type": "code",
        "colab": {}
      },
      "source": [
        "!tail LoanStats_2018Q4.csv"
      ],
      "execution_count": 0,
      "outputs": []
    },
    {
      "cell_type": "code",
      "metadata": {
        "id": "Fm_Yg_Fa0JIP",
        "colab_type": "code",
        "colab": {}
      },
      "source": [
        "import pandas as pd\n",
        "pd.options.display.max_rows = 150\n",
        "pd.options.display.max_columns = 150\n",
        "\n",
        "loans = pd.read_csv('LoanStats_2018Q4.csv', header = 1, skipfooter=2, engine='python')\n",
        "print(loans.shape)\n",
        "loans.head()"
      ],
      "execution_count": 0,
      "outputs": []
    },
    {
      "cell_type": "code",
      "metadata": {
        "id": "it73dILg03-G",
        "colab_type": "code",
        "colab": {}
      },
      "source": [
        "loans.isnull().sum().sort_values()"
      ],
      "execution_count": 0,
      "outputs": []
    },
    {
      "cell_type": "code",
      "metadata": {
        "id": "S_jSxQp71t0R",
        "colab_type": "code",
        "colab": {}
      },
      "source": [
        "loans = loans.drop(['url', 'member_id', 'desc', 'id'], axis = 1)"
      ],
      "execution_count": 0,
      "outputs": []
    },
    {
      "cell_type": "code",
      "metadata": {
        "id": "7xkVoxfP16y2",
        "colab_type": "code",
        "colab": {}
      },
      "source": [
        "loans.head()"
      ],
      "execution_count": 0,
      "outputs": []
    },
    {
      "cell_type": "code",
      "metadata": {
        "id": "CJWFhM-c1_5w",
        "colab_type": "code",
        "colab": {}
      },
      "source": [
        "loans['int_rate'][:10]"
      ],
      "execution_count": 0,
      "outputs": []
    },
    {
      "cell_type": "code",
      "metadata": {
        "id": "oJAlNOPe2TX8",
        "colab_type": "code",
        "colab": {}
      },
      "source": [
        "loans.dtypes[:10]"
      ],
      "execution_count": 0,
      "outputs": []
    },
    {
      "cell_type": "code",
      "metadata": {
        "id": "VXvyoxqx2k-e",
        "colab_type": "code",
        "colab": {}
      },
      "source": [
        "int_rate = ' 15.02%'\n",
        "int_rate"
      ],
      "execution_count": 0,
      "outputs": []
    },
    {
      "cell_type": "code",
      "metadata": {
        "id": "Z_ikeVZD2vO7",
        "colab_type": "code",
        "colab": {}
      },
      "source": [
        "int_rate.strip().strip(\"%\")"
      ],
      "execution_count": 0,
      "outputs": []
    },
    {
      "cell_type": "code",
      "metadata": {
        "id": "zjhgKvdX24J8",
        "colab_type": "code",
        "colab": {}
      },
      "source": [
        "float(int_rate.strip().strip(\"%\"))"
      ],
      "execution_count": 0,
      "outputs": []
    },
    {
      "cell_type": "code",
      "metadata": {
        "id": "lNcNRD9O3bpo",
        "colab_type": "code",
        "colab": {}
      },
      "source": [
        "type(float(int_rate.strip().strip(\"%\")))"
      ],
      "execution_count": 0,
      "outputs": []
    },
    {
      "cell_type": "code",
      "metadata": {
        "id": "MPGUQfhR3vOB",
        "colab_type": "code",
        "colab": {
          "base_uri": "https://localhost:8080/",
          "height": 34
        },
        "outputId": "9e8cbf06-4946-45f1-e4e4-0c20aba0f9a4"
      },
      "source": [
        "def int_rate_to_float(int_rate):\n",
        "  return float(int_rate.strip().strip(\"%\"))\n",
        "\n",
        "int_rate_to_float(int_rate)"
      ],
      "execution_count": 45,
      "outputs": [
        {
          "output_type": "execute_result",
          "data": {
            "text/plain": [
              "15.02"
            ]
          },
          "metadata": {
            "tags": []
          },
          "execution_count": 45
        }
      ]
    },
    {
      "cell_type": "code",
      "metadata": {
        "id": "AgTrdmcD371S",
        "colab_type": "code",
        "colab": {}
      },
      "source": [
        "loans['int_rate'].apply(int_rate_to_float)[:10]"
      ],
      "execution_count": 0,
      "outputs": []
    },
    {
      "cell_type": "code",
      "metadata": {
        "id": "rThrl_ka4Gew",
        "colab_type": "code",
        "colab": {}
      },
      "source": [
        "loans['int_rate_float'] = loans['int_rate'].apply(int_rate_to_float)\n",
        "loans.head()"
      ],
      "execution_count": 0,
      "outputs": []
    },
    {
      "cell_type": "code",
      "metadata": {
        "id": "VbrTKhyY4apD",
        "colab_type": "code",
        "colab": {}
      },
      "source": [
        "loans['emp_title'].value_counts(dropna=False)[:20]"
      ],
      "execution_count": 0,
      "outputs": []
    },
    {
      "cell_type": "code",
      "metadata": {
        "id": "b9WGe1Nh49OU",
        "colab_type": "code",
        "colab": {}
      },
      "source": [
        "len(loans['emp_title'].value_counts())"
      ],
      "execution_count": 0,
      "outputs": []
    },
    {
      "cell_type": "code",
      "metadata": {
        "id": "yUke5Ypt6u-_",
        "colab_type": "code",
        "colab": {}
      },
      "source": [
        "loans['emp_title'].value_counts().reset_index().head()"
      ],
      "execution_count": 0,
      "outputs": []
    },
    {
      "cell_type": "code",
      "metadata": {
        "id": "MtL_Ys487TLX",
        "colab_type": "code",
        "colab": {
          "base_uri": "https://localhost:8080/",
          "height": 34
        },
        "outputId": "9c351ed3-5d0f-45ef-e6dc-8c6b319115d9"
      },
      "source": [
        "loans['emp_title'].isnull().sum()"
      ],
      "execution_count": 56,
      "outputs": [
        {
          "output_type": "execute_result",
          "data": {
            "text/plain": [
              "20947"
            ]
          },
          "metadata": {
            "tags": []
          },
          "execution_count": 56
        }
      ]
    },
    {
      "cell_type": "code",
      "metadata": {
        "id": "y3vM1OGl7gN9",
        "colab_type": "code",
        "colab": {}
      },
      "source": [
        "import numpy as np\n",
        "\n",
        "type(np.NaN)"
      ],
      "execution_count": 0,
      "outputs": []
    },
    {
      "cell_type": "code",
      "metadata": {
        "id": "1PDwBNLI77_6",
        "colab_type": "code",
        "colab": {}
      },
      "source": [
        "examples = ['owner', 'Supervisor', ' Project Manager', np.NaN]\n",
        "\n",
        "def clean_title(job):\n",
        "  if isinstance(job, str):\n",
        "    return job.strip().title()\n",
        "  else:\n",
        "    return \"Unknown\"\n",
        "  \n",
        "  \n",
        "[clean_title(job) for job in examples]"
      ],
      "execution_count": 0,
      "outputs": []
    },
    {
      "cell_type": "code",
      "metadata": {
        "id": "1xkQQKmz9O5e",
        "colab_type": "code",
        "colab": {}
      },
      "source": [
        "loans['emp_title'] = loans['emp_title'].apply(clean_title)\n",
        "loans.head()"
      ],
      "execution_count": 0,
      "outputs": []
    },
    {
      "cell_type": "code",
      "metadata": {
        "id": "ZNwdDbkH9o2C",
        "colab_type": "code",
        "colab": {}
      },
      "source": [
        "loans['emp_title'].value_counts(dropna=False)[:20]"
      ],
      "execution_count": 0,
      "outputs": []
    },
    {
      "cell_type": "code",
      "metadata": {
        "id": "3OGYi6HV-SU6",
        "colab_type": "code",
        "colab": {
          "base_uri": "https://localhost:8080/",
          "height": 34
        },
        "outputId": "bb861522-37c3-4087-ec7c-b83ff1618dcd"
      },
      "source": [
        "len(loans['emp_title'].value_counts())"
      ],
      "execution_count": 66,
      "outputs": [
        {
          "output_type": "execute_result",
          "data": {
            "text/plain": [
              "34902"
            ]
          },
          "metadata": {
            "tags": []
          },
          "execution_count": 66
        }
      ]
    },
    {
      "cell_type": "code",
      "metadata": {
        "id": "SKtJ2uF4-qjm",
        "colab_type": "code",
        "colab": {}
      },
      "source": [
        "loans['emp_title_manager'] = loans['emp_title'].str.contains('Manager')\n",
        "\n",
        "loans.head()"
      ],
      "execution_count": 0,
      "outputs": []
    },
    {
      "cell_type": "code",
      "metadata": {
        "id": "753lXZ0k-9np",
        "colab_type": "code",
        "colab": {}
      },
      "source": [
        "condition = (loans['emp_title_manager'] == True)\n",
        "\n",
        "managers = loans[loans['emp_title_manager'] == True]\n",
        "\n",
        "print(managers.shape)\n",
        "managers.head()"
      ],
      "execution_count": 0,
      "outputs": []
    },
    {
      "cell_type": "code",
      "metadata": {
        "id": "lA1k4BOQ_3_U",
        "colab_type": "code",
        "colab": {}
      },
      "source": [
        "notmanagers =  loans[(loans['emp_title_manager'] == False) & (loans['home_ownership'] == 'MORTGAGE')]\n",
        "print(notmanagers.shape)\n",
        "notmanagers.head()"
      ],
      "execution_count": 0,
      "outputs": []
    },
    {
      "cell_type": "code",
      "metadata": {
        "id": "Wdpr1mMXBBYp",
        "colab_type": "code",
        "colab": {
          "base_uri": "https://localhost:8080/",
          "height": 50
        },
        "outputId": "aab87690-b0b9-4ff5-b291-7f6bd7c35d9d"
      },
      "source": [
        "print(managers['int_rate_float'].mean())\n",
        "print(notmanagers['int_rate_float'].mean())"
      ],
      "execution_count": 77,
      "outputs": [
        {
          "output_type": "stream",
          "text": [
            "12.760582149647117\n",
            "12.576722603373335\n"
          ],
          "name": "stdout"
        }
      ]
    },
    {
      "cell_type": "markdown",
      "metadata": {
        "id": "Tu7X5s7WBp3N",
        "colab_type": "text"
      },
      "source": [
        "Convert the ***term*** column from string to integers. "
      ]
    },
    {
      "cell_type": "code",
      "metadata": {
        "id": "_3lKpa3CBxpA",
        "colab_type": "code",
        "colab": {
          "base_uri": "https://localhost:8080/",
          "height": 202
        },
        "outputId": "651f3d4c-07bb-4922-9beb-ee5d290c103b"
      },
      "source": [
        "loans.dtypes[:10]"
      ],
      "execution_count": 85,
      "outputs": [
        {
          "output_type": "execute_result",
          "data": {
            "text/plain": [
              "loan_amnt            int64\n",
              "funded_amnt          int64\n",
              "funded_amnt_inv    float64\n",
              "term                object\n",
              "int_rate            object\n",
              "installment        float64\n",
              "grade               object\n",
              "sub_grade           object\n",
              "emp_title           object\n",
              "emp_length          object\n",
              "dtype: object"
            ]
          },
          "metadata": {
            "tags": []
          },
          "execution_count": 85
        }
      ]
    },
    {
      "cell_type": "code",
      "metadata": {
        "id": "of5rWNM8CbUc",
        "colab_type": "code",
        "colab": {}
      },
      "source": [
        "loans['term'][:20]"
      ],
      "execution_count": 0,
      "outputs": []
    },
    {
      "cell_type": "code",
      "metadata": {
        "id": "ddrpD2tfDEOu",
        "colab_type": "code",
        "colab": {}
      },
      "source": [
        "loans['term'].isnull().sum()"
      ],
      "execution_count": 0,
      "outputs": []
    },
    {
      "cell_type": "code",
      "metadata": {
        "id": "4UWvt_xmCr_X",
        "colab_type": "code",
        "colab": {}
      },
      "source": [
        "example_term = ' 26 months'"
      ],
      "execution_count": 0,
      "outputs": []
    },
    {
      "cell_type": "code",
      "metadata": {
        "id": "4z9sO-smEDDk",
        "colab_type": "code",
        "colab": {
          "base_uri": "https://localhost:8080/",
          "height": 34
        },
        "outputId": "d12c7196-1db4-4cc0-81ea-c7157b415da2"
      },
      "source": [
        "example_term.strip('months').strip()"
      ],
      "execution_count": 103,
      "outputs": [
        {
          "output_type": "execute_result",
          "data": {
            "text/plain": [
              "'26'"
            ]
          },
          "metadata": {
            "tags": []
          },
          "execution_count": 103
        }
      ]
    },
    {
      "cell_type": "code",
      "metadata": {
        "id": "sPWV8P_MEVp5",
        "colab_type": "code",
        "colab": {
          "base_uri": "https://localhost:8080/",
          "height": 34
        },
        "outputId": "a848ba40-7484-4a59-f5d5-64e540aa833a"
      },
      "source": [
        "type(example_term.strip('months').strip())"
      ],
      "execution_count": 104,
      "outputs": [
        {
          "output_type": "execute_result",
          "data": {
            "text/plain": [
              "str"
            ]
          },
          "metadata": {
            "tags": []
          },
          "execution_count": 104
        }
      ]
    },
    {
      "cell_type": "code",
      "metadata": {
        "id": "DwByNh_gEZGO",
        "colab_type": "code",
        "colab": {
          "base_uri": "https://localhost:8080/",
          "height": 34
        },
        "outputId": "846e88bd-416d-44ce-a2ba-aacf9fbe5894"
      },
      "source": [
        "float(example_term.strip('months').strip())"
      ],
      "execution_count": 105,
      "outputs": [
        {
          "output_type": "execute_result",
          "data": {
            "text/plain": [
              "26.0"
            ]
          },
          "metadata": {
            "tags": []
          },
          "execution_count": 105
        }
      ]
    },
    {
      "cell_type": "code",
      "metadata": {
        "id": "ywIzBvlKEcVV",
        "colab_type": "code",
        "colab": {
          "base_uri": "https://localhost:8080/",
          "height": 34
        },
        "outputId": "5be246ac-aaa6-4ad3-f9b7-c645ad8554fc"
      },
      "source": [
        "type(float(example_term.strip('months').strip()))"
      ],
      "execution_count": 106,
      "outputs": [
        {
          "output_type": "execute_result",
          "data": {
            "text/plain": [
              "float"
            ]
          },
          "metadata": {
            "tags": []
          },
          "execution_count": 106
        }
      ]
    },
    {
      "cell_type": "code",
      "metadata": {
        "id": "y47rJizdCzcI",
        "colab_type": "code",
        "colab": {
          "base_uri": "https://localhost:8080/",
          "height": 34
        },
        "outputId": "047c909f-df6a-45fe-aeae-2339388c922f"
      },
      "source": [
        "def term_to_integers(term):\n",
        "  return float(term.strip('months').strip())\n",
        "\n",
        "term_to_integers(example_term)"
      ],
      "execution_count": 107,
      "outputs": [
        {
          "output_type": "execute_result",
          "data": {
            "text/plain": [
              "26.0"
            ]
          },
          "metadata": {
            "tags": []
          },
          "execution_count": 107
        }
      ]
    },
    {
      "cell_type": "code",
      "metadata": {
        "id": "mzceNY_0FAHA",
        "colab_type": "code",
        "colab": {}
      },
      "source": [
        "loans['term'].apply(term_to_integers)\n"
      ],
      "execution_count": 0,
      "outputs": []
    },
    {
      "cell_type": "code",
      "metadata": {
        "id": "v82FPSbQFrbU",
        "colab_type": "code",
        "colab": {}
      },
      "source": [
        "loans['int_term'] = loans['term'].apply(term_to_integers)\n",
        "\n",
        "loans.head()"
      ],
      "execution_count": 0,
      "outputs": []
    },
    {
      "cell_type": "markdown",
      "metadata": {
        "id": "_wbyLUndGWj6",
        "colab_type": "text"
      },
      "source": [
        "Make a column named loan_status_is_great. It should contain the integer 1 if loan_status is \"Current\" or \"Fully Paid.\" Else it should contain the integer 0."
      ]
    },
    {
      "cell_type": "code",
      "metadata": {
        "id": "1jmESVFoGV7i",
        "colab_type": "code",
        "colab": {}
      },
      "source": [
        "loans.dtypes[:20]"
      ],
      "execution_count": 0,
      "outputs": []
    },
    {
      "cell_type": "code",
      "metadata": {
        "id": "z-aFVfneGqXq",
        "colab_type": "code",
        "colab": {}
      },
      "source": [
        "loans['loan_status'][:20]"
      ],
      "execution_count": 0,
      "outputs": []
    },
    {
      "cell_type": "code",
      "metadata": {
        "id": "3LfKqA2oG0wM",
        "colab_type": "code",
        "colab": {}
      },
      "source": [
        "#condition =  (loans['loan_status'] == \"Current\") or (loans['loan_status'] == 'Fully Paid')\n",
        "\n",
        "# first set the new column = to the old column\n",
        "# then create a function and an \"if statement\" inside the function that conveys\n",
        "# the condition described in the questions\n",
        "\n",
        "# Then use .apply to apply the function to the new column created earlier"
      ],
      "execution_count": 0,
      "outputs": []
    },
    {
      "cell_type": "code",
      "metadata": {
        "id": "er_gNnPiS1QN",
        "colab_type": "code",
        "colab": {}
      },
      "source": [
        "# first set the new column = to the old column\n",
        "loans['loan_status_is_great'] = loans['loan_status']\n",
        "\n",
        "loans.head()"
      ],
      "execution_count": 0,
      "outputs": []
    },
    {
      "cell_type": "code",
      "metadata": {
        "id": "lUfYCT7DTFgN",
        "colab_type": "code",
        "colab": {}
      },
      "source": [
        "# then create a function and an \"if statement\" inside the function that conveys\n",
        "# the condition described in the questions\n",
        "\n",
        "example_status = [\"Current\", 'Fully Paid', 'Something']\n",
        "\n",
        "\n",
        "def loan_status(status):\n",
        "  if status == \"Current\":\n",
        "    return 1\n",
        "  elif status == 'Fully Paid':\n",
        "    return 1\n",
        "  else:\n",
        "    return 0\n",
        "    "
      ],
      "execution_count": 0,
      "outputs": []
    },
    {
      "cell_type": "code",
      "metadata": {
        "id": "dMm4URumX8Np",
        "colab_type": "code",
        "colab": {
          "base_uri": "https://localhost:8080/",
          "height": 34
        },
        "outputId": "293e1b2a-4141-4eb2-bb42-e9944de7f149"
      },
      "source": [
        "#Testing the new function with example list\n",
        "[loan_status(status) for status in example_status]"
      ],
      "execution_count": 215,
      "outputs": [
        {
          "output_type": "execute_result",
          "data": {
            "text/plain": [
              "[1, 1, 0]"
            ]
          },
          "metadata": {
            "tags": []
          },
          "execution_count": 215
        }
      ]
    },
    {
      "cell_type": "code",
      "metadata": {
        "id": "XhFsxZZ1Z-vR",
        "colab_type": "code",
        "colab": {}
      },
      "source": [
        "# The first idea is not working. \n",
        "# Another idea. Create a new colum where if the condition is \"Current\" or \"Fully Paid\", then it will be TRUE\n",
        "# else, then it would be false\n",
        "# Then use dictionary mapping or a function to change TRUE and FALSE to 1 and 0\n",
        "# Cancel that. After implementing the second idea, i found out that the first idea works. My only\n",
        "# problem was that my list comprehension was wrong. i did loan_status(example_status) instead of \n",
        "# loan_status(status)\n",
        "# The top code and bottom code should accomplish the same mission. "
      ],
      "execution_count": 0,
      "outputs": []
    },
    {
      "cell_type": "code",
      "metadata": {
        "id": "JkG66x0-kN6J",
        "colab_type": "code",
        "colab": {}
      },
      "source": [
        "loans['loan_status_is_great'] = loans['loan_status_is_great'].apply(loan_status)\n",
        "loans.head()"
      ],
      "execution_count": 0,
      "outputs": []
    },
    {
      "cell_type": "code",
      "metadata": {
        "id": "VhfLhqhEbk-5",
        "colab_type": "code",
        "colab": {
          "base_uri": "https://localhost:8080/",
          "height": 151
        },
        "outputId": "49a34c05-341e-4bd8-8ea6-d086dad8b4bd"
      },
      "source": [
        "loans['loan_status'].value_counts()"
      ],
      "execution_count": 188,
      "outputs": [
        {
          "output_type": "execute_result",
          "data": {
            "text/plain": [
              "Current               105925\n",
              "Fully Paid             15780\n",
              "Charged Off             2863\n",
              "Late (31-120 days)      2482\n",
              "In Grace Period          901\n",
              "Late (16-30 days)        459\n",
              "Default                    2\n",
              "Name: loan_status, dtype: int64"
            ]
          },
          "metadata": {
            "tags": []
          },
          "execution_count": 188
        }
      ]
    },
    {
      "cell_type": "code",
      "metadata": {
        "id": "VxQT4-OZgDqQ",
        "colab_type": "code",
        "colab": {}
      },
      "source": [
        "# I created a second version for differentiation purposes. \n",
        "loans['loan_status_is_great_2'] = loans['loan_status'].str.contains('Current|Fully Paid')\n",
        "loans.head()"
      ],
      "execution_count": 0,
      "outputs": []
    },
    {
      "cell_type": "code",
      "metadata": {
        "id": "ct5ZqlHugozQ",
        "colab_type": "code",
        "colab": {}
      },
      "source": [
        "loans['loan_status_is_great_2'][30:32]"
      ],
      "execution_count": 0,
      "outputs": []
    },
    {
      "cell_type": "code",
      "metadata": {
        "id": "9wSgpghBhI8x",
        "colab_type": "code",
        "colab": {}
      },
      "source": [
        "# The True/False Method Worked\n",
        "loans['loan_status'][30:32]"
      ],
      "execution_count": 0,
      "outputs": []
    },
    {
      "cell_type": "code",
      "metadata": {
        "id": "diO0Hsz2hfGv",
        "colab_type": "code",
        "colab": {}
      },
      "source": [
        "def bool_to_int(number):\n",
        "  if number == True:\n",
        "    return 1\n",
        "  else: \n",
        "    return 0\n",
        "  "
      ],
      "execution_count": 0,
      "outputs": []
    },
    {
      "cell_type": "code",
      "metadata": {
        "id": "c5xA8X4ni86K",
        "colab_type": "code",
        "colab": {}
      },
      "source": [
        "# Testing Function\n",
        "bool_test = [True, False, True, True, False]"
      ],
      "execution_count": 0,
      "outputs": []
    },
    {
      "cell_type": "code",
      "metadata": {
        "id": "OKiTcLPejKGK",
        "colab_type": "code",
        "colab": {
          "base_uri": "https://localhost:8080/",
          "height": 34
        },
        "outputId": "23f750eb-63ac-4351-d3d7-b73aea63935f"
      },
      "source": [
        "[bool_to_int(number) for number in bool_test]"
      ],
      "execution_count": 223,
      "outputs": [
        {
          "output_type": "execute_result",
          "data": {
            "text/plain": [
              "[1, 0, 1, 1, 0]"
            ]
          },
          "metadata": {
            "tags": []
          },
          "execution_count": 223
        }
      ]
    },
    {
      "cell_type": "code",
      "metadata": {
        "id": "2ruP3LBellRZ",
        "colab_type": "code",
        "colab": {}
      },
      "source": [
        "loans['loan_status_is_great_2'] = loans['loan_status_is_great_2'].apply(bool_to_int)\n",
        "loans.head()"
      ],
      "execution_count": 0,
      "outputs": []
    },
    {
      "cell_type": "code",
      "metadata": {
        "id": "uM59M4mZlyWJ",
        "colab_type": "code",
        "colab": {}
      },
      "source": [
        "# Both solutions i came up with works for changing the loan status string to loan \n",
        "# status integer. I came up with 2 solutions because the way i implemented the solution\n",
        "# the first time was wrong even though the solution structure/idea was correct."
      ],
      "execution_count": 0,
      "outputs": []
    },
    {
      "cell_type": "markdown",
      "metadata": {
        "id": "CpiqLjuWbpyS",
        "colab_type": "text"
      },
      "source": [
        "Make last_pymnt_d_month and last_pymnt_d_year columns."
      ]
    },
    {
      "cell_type": "code",
      "metadata": {
        "id": "DdAi8wUCbuel",
        "colab_type": "code",
        "colab": {}
      },
      "source": [
        "loans.head()"
      ],
      "execution_count": 0,
      "outputs": []
    },
    {
      "cell_type": "code",
      "metadata": {
        "id": "0XwFFxPqdIxN",
        "colab_type": "code",
        "colab": {}
      },
      "source": [
        "loans['last_pymnt_d'][:10]"
      ],
      "execution_count": 0,
      "outputs": []
    },
    {
      "cell_type": "code",
      "metadata": {
        "id": "szK_ZTWPdRjg",
        "colab_type": "code",
        "colab": {}
      },
      "source": [
        "loans['last_pymnt_d'] = pd.to_datetime(loans['last_pymnt_d'], infer_datetime_format=True)\n",
        "loans['last_pymnt_d'][:10]"
      ],
      "execution_count": 0,
      "outputs": []
    },
    {
      "cell_type": "code",
      "metadata": {
        "id": "grnCGlIWd0Oi",
        "colab_type": "code",
        "colab": {}
      },
      "source": [
        "loans['last_pymnt_d_month'] = loans['last_pymnt_d'].dt.month\n",
        "loans.head()"
      ],
      "execution_count": 0,
      "outputs": []
    },
    {
      "cell_type": "code",
      "metadata": {
        "id": "v54B_NJueIOD",
        "colab_type": "code",
        "colab": {}
      },
      "source": [
        "loans['last_pymnt_d_year'] = loans['last_pymnt_d'].dt.year\n",
        "loans.head()"
      ],
      "execution_count": 0,
      "outputs": []
    },
    {
      "cell_type": "markdown",
      "metadata": {
        "colab_type": "text",
        "id": "L8k0LiHmo5EU"
      },
      "source": [
        "# Stretch Goals\n",
        "\n",
        "You can do more with the LendingClub or Instacart datasets.\n",
        "\n",
        "LendingClub options:\n",
        "- There's one other column in the dataframe with percent signs. Remove them and convert to floats. You'll need to handle missing values.\n",
        "- Modify the `emp_title` column to replace titles with 'Other' if the title is not in the top 20. \n",
        "- Take initiatve and work on your own ideas!\n",
        "\n",
        "Instacart options:\n",
        "- Read [Instacart Market Basket Analysis, Winner's Interview: 2nd place, Kazuki Onodera](http://blog.kaggle.com/2017/09/21/instacart-market-basket-analysis-winners-interview-2nd-place-kazuki-onodera/), especially the **Feature Engineering** section. (Can you choose one feature from his bulleted lists, and try to engineer it with pandas code?)\n",
        "- Read and replicate parts of [Simple Exploration Notebook - Instacart](https://www.kaggle.com/sudalairajkumar/simple-exploration-notebook-instacart). (It's the Python Notebook with the most upvotes for this Kaggle competition.)\n",
        "- Take initiative and work on your own ideas!"
      ]
    },
    {
      "cell_type": "markdown",
      "metadata": {
        "colab_type": "text",
        "id": "0_7PXF7lpEXg"
      },
      "source": [
        "You can uncomment and run the cells below to re-download and extract the Instacart data"
      ]
    },
    {
      "cell_type": "code",
      "metadata": {
        "id": "urIePNa0yNG6",
        "colab_type": "code",
        "colab": {}
      },
      "source": [
        "# !wget https://s3.amazonaws.com/instacart-datasets/instacart_online_grocery_shopping_2017_05_01.tar.gz"
      ],
      "execution_count": 0,
      "outputs": []
    },
    {
      "cell_type": "code",
      "metadata": {
        "id": "X9zEyu-uyNG8",
        "colab_type": "code",
        "colab": {}
      },
      "source": [
        "# !tar --gunzip --extract --verbose --file=instacart_online_grocery_shopping_2017_05_01.tar.gz"
      ],
      "execution_count": 0,
      "outputs": []
    },
    {
      "cell_type": "code",
      "metadata": {
        "id": "Y3IqrhlpyNG-",
        "colab_type": "code",
        "colab": {}
      },
      "source": [
        "# %cd instacart_2017_05_01"
      ],
      "execution_count": 0,
      "outputs": []
    }
  ]
}